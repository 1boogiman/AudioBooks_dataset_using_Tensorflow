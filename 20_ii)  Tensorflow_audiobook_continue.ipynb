{
 "cells": [
  {
   "cell_type": "code",
   "execution_count": 2,
   "metadata": {},
   "outputs": [],
   "source": [
    "import numpy as np\n",
    "import tensorflow as tf"
   ]
  },
  {
   "cell_type": "code",
   "execution_count": 3,
   "metadata": {},
   "outputs": [],
   "source": [
    "npz = np.load(\"F:\\\\data science\\\\bootcamp csv files\\\\Audiobooks_train.npz\")\n",
    "\n",
    "train_inputs = npz['inputs'].astype(np.float)\n",
    "train_targets = npz['targets'].astype(np.int)\n",
    "\n",
    "npz1 = np.load(\"F:\\\\data science\\\\bootcamp csv files\\\\Audiobooks_validation.npz\")\n",
    "\n",
    "validation_inputs = npz1['inputs'].astype(np.float)\n",
    "validation_targets = npz1['targets'].astype(np.int)\n",
    "\n",
    "npz2 = np.load(\"F:\\\\data science\\\\bootcamp csv files\\\\Audiobooks_test.npz\")\n",
    "\n",
    "test_inputs = npz2['inputs'].astype(np.float)\n",
    "test_targets = npz2['targets'].astype(np.int)"
   ]
  },
  {
   "cell_type": "code",
   "execution_count": 8,
   "metadata": {},
   "outputs": [
    {
     "name": "stdout",
     "output_type": "stream",
     "text": [
      "Train on 3579 samples, validate on 447 samples\n",
      "Epoch 1/100\n",
      "3579/3579 - 0s - loss: 0.6219 - accuracy: 0.6133 - val_loss: 0.5116 - val_accuracy: 0.7315\n",
      "Epoch 2/100\n",
      "3579/3579 - 0s - loss: 0.4771 - accuracy: 0.7622 - val_loss: 0.4408 - val_accuracy: 0.7606\n",
      "Epoch 3/100\n",
      "3579/3579 - 0s - loss: 0.4210 - accuracy: 0.7723 - val_loss: 0.4035 - val_accuracy: 0.7875\n",
      "Epoch 4/100\n",
      "3579/3579 - 0s - loss: 0.3930 - accuracy: 0.7960 - val_loss: 0.3972 - val_accuracy: 0.7808\n",
      "Epoch 5/100\n",
      "3579/3579 - 0s - loss: 0.3799 - accuracy: 0.7918 - val_loss: 0.3636 - val_accuracy: 0.8277\n",
      "Epoch 6/100\n",
      "3579/3579 - 0s - loss: 0.3651 - accuracy: 0.8030 - val_loss: 0.3562 - val_accuracy: 0.8322\n",
      "Epoch 7/100\n",
      "3579/3579 - 0s - loss: 0.3596 - accuracy: 0.8075 - val_loss: 0.3701 - val_accuracy: 0.8188\n",
      "Epoch 8/100\n",
      "3579/3579 - 0s - loss: 0.3561 - accuracy: 0.8092 - val_loss: 0.3458 - val_accuracy: 0.8166\n",
      "Epoch 9/100\n",
      "3579/3579 - 0s - loss: 0.3492 - accuracy: 0.8100 - val_loss: 0.3414 - val_accuracy: 0.8188\n",
      "Epoch 10/100\n",
      "3579/3579 - 0s - loss: 0.3441 - accuracy: 0.8122 - val_loss: 0.3424 - val_accuracy: 0.8255\n",
      "Epoch 11/100\n",
      "3579/3579 - 0s - loss: 0.3406 - accuracy: 0.8148 - val_loss: 0.3502 - val_accuracy: 0.8098\n"
     ]
    },
    {
     "data": {
      "text/plain": [
       "<tensorflow.python.keras.callbacks.History at 0x1e6b27c8bc8>"
      ]
     },
     "execution_count": 8,
     "metadata": {},
     "output_type": "execute_result"
    }
   ],
   "source": [
    "inputsize = 10\n",
    "output_size = 2\n",
    "hidden_layer_size = 50\n",
    "\n",
    "model = tf.keras.Sequential([\n",
    "                            tf.keras.layers.Dense(hidden_layer_size, activation='relu'),\n",
    "                            tf.keras.layers.Dense(hidden_layer_size, activation='relu'),\n",
    "                            tf.keras.layers.Dense(output_size, activation='softmax')\n",
    "                            ])\n",
    "model.compile(optimizer='adam', loss='sparse_categorical_crossentropy', metrics=['accuracy'])\n",
    "\n",
    "Batch_size = 100\n",
    "max_epochs = 100\n",
    "early_stopping = tf.keras.callbacks.EarlyStopping(patience=2)\n",
    "\n",
    "model.fit(train_inputs,\n",
    "          train_targets,batch_size=Batch_size, \n",
    "          epochs = max_epochs, \n",
    "          callbacks=[early_stopping],\n",
    "          validation_data=(validation_inputs,validation_targets), \n",
    "          verbose=2)"
   ]
  },
  {
   "cell_type": "markdown",
   "metadata": {},
   "source": [
    "# Test\n"
   ]
  },
  {
   "cell_type": "code",
   "execution_count": 9,
   "metadata": {},
   "outputs": [
    {
     "name": "stdout",
     "output_type": "stream",
     "text": [
      "448/448 [==============================] - 0s 427us/sample - loss: 0.3369 - accuracy: 0.8326\n"
     ]
    }
   ],
   "source": [
    "test_loss,test_accuracy=model.evaluate(test_inputs,test_targets)"
   ]
  },
  {
   "cell_type": "code",
   "execution_count": 10,
   "metadata": {},
   "outputs": [
    {
     "name": "stdout",
     "output_type": "stream",
     "text": [
      "\n",
      " Test Loss: 0.34.  Test accuracy:  83.26%\n"
     ]
    }
   ],
   "source": [
    "print('\\n Test Loss: {0:.2f}.  Test accuracy:  {1:.2f}%'.format(test_loss,test_accuracy*100.))"
   ]
  },
  {
   "cell_type": "code",
   "execution_count": null,
   "metadata": {},
   "outputs": [],
   "source": []
  }
 ],
 "metadata": {
  "kernelspec": {
   "display_name": "Python [conda env:py3-TF2.0]",
   "language": "python",
   "name": "conda-env-py3-TF2.0-py"
  },
  "language_info": {
   "codemirror_mode": {
    "name": "ipython",
    "version": 3
   },
   "file_extension": ".py",
   "mimetype": "text/x-python",
   "name": "python",
   "nbconvert_exporter": "python",
   "pygments_lexer": "ipython3",
   "version": "3.7.7"
  }
 },
 "nbformat": 4,
 "nbformat_minor": 4
}
